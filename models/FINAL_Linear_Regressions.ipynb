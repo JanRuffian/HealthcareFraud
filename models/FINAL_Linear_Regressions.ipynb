{
 "cells": [
  {
   "cell_type": "markdown",
   "metadata": {},
   "source": [
    "## Set up data set"
   ]
  },
  {
   "cell_type": "code",
   "execution_count": 106,
   "metadata": {},
   "outputs": [],
   "source": [
    "import pandas as pd\n",
    "import numpy as np\n",
    "import matplotlib.pyplot as plt "
   ]
  },
  {
   "cell_type": "code",
   "execution_count": 107,
   "metadata": {},
   "outputs": [],
   "source": [
    "HealthData = pd.read_csv('/Users/janruffner/Desktop/HealthcareFraudCapstoneProject/Data/HealthData.csv', index_col=0)"
   ]
  },
  {
   "cell_type": "code",
   "execution_count": 108,
   "metadata": {},
   "outputs": [
    {
     "data": {
      "text/html": [
       "<div>\n",
       "<style scoped>\n",
       "    .dataframe tbody tr th:only-of-type {\n",
       "        vertical-align: middle;\n",
       "    }\n",
       "\n",
       "    .dataframe tbody tr th {\n",
       "        vertical-align: top;\n",
       "    }\n",
       "\n",
       "    .dataframe thead th {\n",
       "        text-align: right;\n",
       "    }\n",
       "</style>\n",
       "<table border=\"1\" class=\"dataframe\">\n",
       "  <thead>\n",
       "    <tr style=\"text-align: right;\">\n",
       "      <th></th>\n",
       "      <th>PotentialFraud2</th>\n",
       "      <th>Majority</th>\n",
       "      <th>sum.BeneID</th>\n",
       "      <th>sum.InscClaimAmtReimbursed</th>\n",
       "      <th>mean.Age</th>\n",
       "      <th>sum.AttendingPhysicians</th>\n",
       "      <th>GenderRatio</th>\n",
       "      <th>sum.Claims</th>\n",
       "      <th>sum.ChronicCond_Alzheimer</th>\n",
       "      <th>sum.ChronicCond_Cancer</th>\n",
       "      <th>...</th>\n",
       "      <th>Majority_44</th>\n",
       "      <th>Majority_45</th>\n",
       "      <th>Majority_46</th>\n",
       "      <th>Majority_47</th>\n",
       "      <th>Majority_49</th>\n",
       "      <th>Majority_50</th>\n",
       "      <th>Majority_51</th>\n",
       "      <th>Majority_52</th>\n",
       "      <th>Majority_53</th>\n",
       "      <th>Majority_54</th>\n",
       "    </tr>\n",
       "    <tr>\n",
       "      <th>Provider</th>\n",
       "      <th></th>\n",
       "      <th></th>\n",
       "      <th></th>\n",
       "      <th></th>\n",
       "      <th></th>\n",
       "      <th></th>\n",
       "      <th></th>\n",
       "      <th></th>\n",
       "      <th></th>\n",
       "      <th></th>\n",
       "      <th></th>\n",
       "      <th></th>\n",
       "      <th></th>\n",
       "      <th></th>\n",
       "      <th></th>\n",
       "      <th></th>\n",
       "      <th></th>\n",
       "      <th></th>\n",
       "      <th></th>\n",
       "      <th></th>\n",
       "      <th></th>\n",
       "    </tr>\n",
       "  </thead>\n",
       "  <tbody>\n",
       "    <tr>\n",
       "      <th>PRV51001</th>\n",
       "      <td>0</td>\n",
       "      <td>1</td>\n",
       "      <td>24</td>\n",
       "      <td>104640</td>\n",
       "      <td>84.280000</td>\n",
       "      <td>14</td>\n",
       "      <td>0.640000</td>\n",
       "      <td>25</td>\n",
       "      <td>10</td>\n",
       "      <td>20</td>\n",
       "      <td>...</td>\n",
       "      <td>0</td>\n",
       "      <td>0</td>\n",
       "      <td>0</td>\n",
       "      <td>0</td>\n",
       "      <td>0</td>\n",
       "      <td>0</td>\n",
       "      <td>0</td>\n",
       "      <td>0</td>\n",
       "      <td>0</td>\n",
       "      <td>0</td>\n",
       "    </tr>\n",
       "    <tr>\n",
       "      <th>PRV51003</th>\n",
       "      <td>1</td>\n",
       "      <td>1</td>\n",
       "      <td>117</td>\n",
       "      <td>605670</td>\n",
       "      <td>75.553030</td>\n",
       "      <td>44</td>\n",
       "      <td>0.590909</td>\n",
       "      <td>132</td>\n",
       "      <td>76</td>\n",
       "      <td>122</td>\n",
       "      <td>...</td>\n",
       "      <td>0</td>\n",
       "      <td>0</td>\n",
       "      <td>0</td>\n",
       "      <td>0</td>\n",
       "      <td>0</td>\n",
       "      <td>0</td>\n",
       "      <td>0</td>\n",
       "      <td>0</td>\n",
       "      <td>0</td>\n",
       "      <td>0</td>\n",
       "    </tr>\n",
       "    <tr>\n",
       "      <th>PRV51004</th>\n",
       "      <td>0</td>\n",
       "      <td>1</td>\n",
       "      <td>138</td>\n",
       "      <td>52170</td>\n",
       "      <td>77.812081</td>\n",
       "      <td>38</td>\n",
       "      <td>0.691275</td>\n",
       "      <td>149</td>\n",
       "      <td>85</td>\n",
       "      <td>133</td>\n",
       "      <td>...</td>\n",
       "      <td>0</td>\n",
       "      <td>0</td>\n",
       "      <td>0</td>\n",
       "      <td>0</td>\n",
       "      <td>0</td>\n",
       "      <td>0</td>\n",
       "      <td>0</td>\n",
       "      <td>0</td>\n",
       "      <td>0</td>\n",
       "      <td>0</td>\n",
       "    </tr>\n",
       "    <tr>\n",
       "      <th>PRV51005</th>\n",
       "      <td>1</td>\n",
       "      <td>1</td>\n",
       "      <td>495</td>\n",
       "      <td>278310</td>\n",
       "      <td>76.055030</td>\n",
       "      <td>6</td>\n",
       "      <td>0.560619</td>\n",
       "      <td>1163</td>\n",
       "      <td>738</td>\n",
       "      <td>998</td>\n",
       "      <td>...</td>\n",
       "      <td>0</td>\n",
       "      <td>0</td>\n",
       "      <td>0</td>\n",
       "      <td>0</td>\n",
       "      <td>0</td>\n",
       "      <td>0</td>\n",
       "      <td>0</td>\n",
       "      <td>0</td>\n",
       "      <td>0</td>\n",
       "      <td>0</td>\n",
       "    </tr>\n",
       "    <tr>\n",
       "      <th>PRV51007</th>\n",
       "      <td>0</td>\n",
       "      <td>1</td>\n",
       "      <td>58</td>\n",
       "      <td>33710</td>\n",
       "      <td>74.791667</td>\n",
       "      <td>10</td>\n",
       "      <td>0.527778</td>\n",
       "      <td>72</td>\n",
       "      <td>46</td>\n",
       "      <td>60</td>\n",
       "      <td>...</td>\n",
       "      <td>0</td>\n",
       "      <td>0</td>\n",
       "      <td>0</td>\n",
       "      <td>0</td>\n",
       "      <td>0</td>\n",
       "      <td>0</td>\n",
       "      <td>0</td>\n",
       "      <td>0</td>\n",
       "      <td>0</td>\n",
       "      <td>0</td>\n",
       "    </tr>\n",
       "  </tbody>\n",
       "</table>\n",
       "<p>5 rows × 70 columns</p>\n",
       "</div>"
      ],
      "text/plain": [
       "          PotentialFraud2  Majority  sum.BeneID  sum.InscClaimAmtReimbursed  \\\n",
       "Provider                                                                      \n",
       "PRV51001                0         1          24                      104640   \n",
       "PRV51003                1         1         117                      605670   \n",
       "PRV51004                0         1         138                       52170   \n",
       "PRV51005                1         1         495                      278310   \n",
       "PRV51007                0         1          58                       33710   \n",
       "\n",
       "           mean.Age  sum.AttendingPhysicians  GenderRatio  sum.Claims  \\\n",
       "Provider                                                                \n",
       "PRV51001  84.280000                       14     0.640000          25   \n",
       "PRV51003  75.553030                       44     0.590909         132   \n",
       "PRV51004  77.812081                       38     0.691275         149   \n",
       "PRV51005  76.055030                        6     0.560619        1163   \n",
       "PRV51007  74.791667                       10     0.527778          72   \n",
       "\n",
       "          sum.ChronicCond_Alzheimer  sum.ChronicCond_Cancer  ...  Majority_44  \\\n",
       "Provider                                                     ...                \n",
       "PRV51001                         10                      20  ...            0   \n",
       "PRV51003                         76                     122  ...            0   \n",
       "PRV51004                         85                     133  ...            0   \n",
       "PRV51005                        738                     998  ...            0   \n",
       "PRV51007                         46                      60  ...            0   \n",
       "\n",
       "          Majority_45  Majority_46  Majority_47  Majority_49  Majority_50  \\\n",
       "Provider                                                                    \n",
       "PRV51001            0            0            0            0            0   \n",
       "PRV51003            0            0            0            0            0   \n",
       "PRV51004            0            0            0            0            0   \n",
       "PRV51005            0            0            0            0            0   \n",
       "PRV51007            0            0            0            0            0   \n",
       "\n",
       "          Majority_51  Majority_52  Majority_53  Majority_54  \n",
       "Provider                                                      \n",
       "PRV51001            0            0            0            0  \n",
       "PRV51003            0            0            0            0  \n",
       "PRV51004            0            0            0            0  \n",
       "PRV51005            0            0            0            0  \n",
       "PRV51007            0            0            0            0  \n",
       "\n",
       "[5 rows x 70 columns]"
      ]
     },
     "execution_count": 108,
     "metadata": {},
     "output_type": "execute_result"
    }
   ],
   "source": [
    "HealthData.head()"
   ]
  },
  {
   "cell_type": "code",
   "execution_count": 109,
   "metadata": {},
   "outputs": [],
   "source": [
    "X=HealthData.drop(['PotentialFraud2','Majority', 'Majority_1'], axis=1)\n",
    "y=HealthData[['PotentialFraud2']]"
   ]
  },
  {
   "cell_type": "markdown",
   "metadata": {},
   "source": [
    "## Define linear regression function"
   ]
  },
  {
   "cell_type": "code",
   "execution_count": 110,
   "metadata": {},
   "outputs": [],
   "source": [
    "from sklearn.linear_model import LogisticRegression"
   ]
  },
  {
   "cell_type": "code",
   "execution_count": 111,
   "metadata": {},
   "outputs": [],
   "source": [
    "import statsmodels.api as sm\n",
    "def logistic(X, y, print_output=False):\n",
    "    X2 = sm.add_constant(X)\n",
    "    X_train, X_test, y_train, y_test = train_test_split(X2, y, test_size=.2, stratify=y, random_state=42) \n",
    "    reg = sm.Logit(y_train, X_train.astype(float)).fit()\n",
    "    if print_output:\n",
    "        print(reg.summary())\n",
    "    return reg"
   ]
  },
  {
   "cell_type": "code",
   "execution_count": 112,
   "metadata": {},
   "outputs": [
    {
     "name": "stdout",
     "output_type": "stream",
     "text": [
      "Warning: Maximum number of iterations has been exceeded.\n",
      "         Current function value: 0.173254\n",
      "         Iterations: 35\n",
      "                           Logit Regression Results                           \n",
      "==============================================================================\n",
      "Dep. Variable:        PotentialFraud2   No. Observations:                 4328\n",
      "Model:                          Logit   Df Residuals:                     4260\n",
      "Method:                           MLE   Df Model:                           67\n",
      "Date:                Tue, 06 Apr 2021   Pseudo R-squ.:                  0.4424\n",
      "Time:                        11:56:16   Log-Likelihood:                -749.84\n",
      "converged:                      False   LL-Null:                       -1344.9\n",
      "Covariance Type:            nonrobust   LLR p-value:                4.020e-205\n",
      "=======================================================================================================\n",
      "                                          coef    std err          z      P>|z|      [0.025      0.975]\n",
      "-------------------------------------------------------------------------------------------------------\n",
      "const                                  -1.1232      2.776     -0.405      0.686      -6.563       4.317\n",
      "sum.BeneID                             -0.0092      0.002     -4.714      0.000      -0.013      -0.005\n",
      "sum.InscClaimAmtReimbursed            7.53e-06    5.2e-07     14.478      0.000    6.51e-06    8.55e-06\n",
      "mean.Age                               -0.0174      0.042     -0.412      0.681      -0.100       0.065\n",
      "sum.AttendingPhysicians                 0.0077      0.003      2.578      0.010       0.002       0.014\n",
      "GenderRatio                             0.1612      0.500      0.322      0.747      -0.819       1.142\n",
      "sum.Claims                              0.0047        nan        nan        nan         nan         nan\n",
      "sum.ChronicCond_Alzheimer               0.0147      0.007      2.108      0.035       0.001       0.028\n",
      "sum.ChronicCond_Cancer                  0.0139      0.010      1.423      0.155      -0.005       0.033\n",
      "sum.ChronicCond_Heartfailure           -0.0049      0.009     -0.567      0.571      -0.022       0.012\n",
      "sum.ChronicCond_ObstrPulmonary         -0.0066      0.008     -0.807      0.420      -0.023       0.009\n",
      "sum.ChronicCond_stroke                 -0.0285      0.011     -2.549      0.011      -0.050      -0.007\n",
      "sum.ChronicCond_rheumatoidarthritis     0.0139      0.008      1.634      0.102      -0.003       0.031\n",
      "sum.ChronicCond_Osteoporasis           -0.0039      0.008     -0.519      0.603      -0.019       0.011\n",
      "sum.ChronicCond_Diabetes                0.0061      0.009      0.646      0.518      -0.012       0.025\n",
      "sum.ClaimsID                            0.0046        nan        nan        nan         nan         nan\n",
      "OupatientInpatient2Ratio               -1.2974      0.234     -5.552      0.000      -1.755      -0.839\n",
      "Majority_2                            -97.5703   1.96e+21  -4.97e-20      1.000   -3.85e+21    3.85e+21\n",
      "Majority_3                             -0.1872      0.674     -0.278      0.781      -1.508       1.133\n",
      "Majority_4                             -0.5499      0.745     -0.738      0.460      -2.010       0.910\n",
      "Majority_5                             -0.2408      0.474     -0.508      0.611      -1.170       0.688\n",
      "Majority_6                              0.1099      0.667      0.165      0.869      -1.197       1.417\n",
      "Majority_7                             -0.9641      1.140     -0.846      0.398      -3.198       1.270\n",
      "Majority_8                              0.9385      0.949      0.989      0.323      -0.922       2.799\n",
      "Majority_9                            -23.8116   2.98e+04     -0.001      0.999   -5.84e+04    5.83e+04\n",
      "Majority_10                            -0.9877      0.542     -1.821      0.069      -2.051       0.075\n",
      "Majority_11                            -1.0167      0.633     -1.607      0.108      -2.257       0.224\n",
      "Majority_12                             0.7304      1.136      0.643      0.520      -1.496       2.956\n",
      "Majority_13                             0.5408      0.728      0.743      0.458      -0.887       1.968\n",
      "Majority_14                            -0.8463      0.587     -1.441      0.150      -1.997       0.305\n",
      "Majority_15                            -0.8390      0.628     -1.335      0.182      -2.071       0.393\n",
      "Majority_16                            -0.1843      0.670     -0.275      0.783      -1.497       1.129\n",
      "Majority_17                             0.1372      0.616      0.223      0.824      -1.071       1.345\n",
      "Majority_18                            -1.1639      0.824     -1.413      0.158      -2.778       0.450\n",
      "Majority_19                            -0.8413      0.661     -1.272      0.203      -2.138       0.455\n",
      "Majority_20                            -0.4119      1.112     -0.370      0.711      -2.592       1.768\n",
      "Majority_21                            -2.9192      1.832     -1.594      0.111      -6.509       0.671\n",
      "Majority_22                            -0.1504      0.729     -0.206      0.837      -1.579       1.278\n",
      "Majority_23                            -0.6173      0.593     -1.040      0.298      -1.780       0.546\n",
      "Majority_24                            -0.0855      0.613     -0.139      0.889      -1.287       1.116\n",
      "Majority_25                            -0.6302      0.702     -0.897      0.370      -2.007       0.746\n",
      "Majority_26                            -0.8911      0.680     -1.311      0.190      -2.223       0.441\n",
      "Majority_27                             0.4720      0.899      0.525      0.600      -1.290       2.234\n",
      "Majority_28                            -1.3408      0.874     -1.535      0.125      -3.053       0.371\n",
      "Majority_29                            -0.1409      0.861     -0.164      0.870      -1.829       1.548\n",
      "Majority_30                            -0.0098      1.072     -0.009      0.993      -2.112       2.092\n",
      "Majority_31                            -0.0504      0.665     -0.076      0.940      -1.355       1.254\n",
      "Majority_32                            -0.2333      1.093     -0.213      0.831      -2.375       1.909\n",
      "Majority_33                            -0.4562      0.509     -0.896      0.370      -1.455       0.542\n",
      "Majority_34                            -0.2199      0.543     -0.405      0.685      -1.283       0.844\n",
      "Majority_35                            -0.1170      1.132     -0.103      0.918      -2.335       2.101\n",
      "Majority_36                             0.0555      0.515      0.108      0.914      -0.954       1.065\n",
      "Majority_37                            -1.1398      0.827     -1.377      0.168      -2.762       0.482\n",
      "Majority_38                             0.3702      0.751      0.493      0.622      -1.102       1.842\n",
      "Majority_39                            -0.8060      0.552     -1.461      0.144      -1.887       0.275\n",
      "Majority_41                           -15.9758   3932.276     -0.004      0.997   -7723.095    7691.143\n",
      "Majority_42                            -1.6047      0.784     -2.047      0.041      -3.141      -0.068\n",
      "Majority_43                             0.1640      0.844      0.194      0.846      -1.491       1.819\n",
      "Majority_44                             0.3310      0.548      0.604      0.546      -0.743       1.405\n",
      "Majority_45                            -0.3384      0.477     -0.710      0.478      -1.273       0.596\n",
      "Majority_46                            -0.7155      0.921     -0.777      0.437      -2.521       1.090\n",
      "Majority_47                            -0.3803      1.346     -0.283      0.777      -3.018       2.257\n",
      "Majority_49                             0.9570      0.514      1.863      0.062      -0.050       1.964\n",
      "Majority_50                            -1.0550      0.744     -1.418      0.156      -2.513       0.403\n",
      "Majority_51                            -0.9772      0.860     -1.136      0.256      -2.663       0.709\n",
      "Majority_52                            -0.5827      0.626     -0.931      0.352      -1.809       0.644\n",
      "Majority_53                            -0.1283      1.280     -0.100      0.920      -2.637       2.381\n",
      "Majority_54                             0.2710      0.720      0.377      0.706      -1.140       1.682\n",
      "=======================================================================================================\n"
     ]
    },
    {
     "name": "stderr",
     "output_type": "stream",
     "text": [
      "/Users/janruffner/opt/anaconda3/lib/python3.8/site-packages/statsmodels/base/model.py:566: ConvergenceWarning: Maximum Likelihood optimization failed to converge. Check mle_retvals\n",
      "  warnings.warn(\"Maximum Likelihood optimization failed to \"\n"
     ]
    },
    {
     "data": {
      "text/plain": [
       "<statsmodels.discrete.discrete_model.BinaryResultsWrapper at 0x7f9cdb04cc40>"
      ]
     },
     "execution_count": 112,
     "metadata": {},
     "output_type": "execute_result"
    }
   ],
   "source": [
    "logistic(X,y,True)"
   ]
  },
  {
   "cell_type": "code",
   "execution_count": 113,
   "metadata": {},
   "outputs": [
    {
     "name": "stderr",
     "output_type": "stream",
     "text": [
      "/Users/janruffner/opt/anaconda3/lib/python3.8/site-packages/sklearn/utils/validation.py:72: DataConversionWarning: A column-vector y was passed when a 1d array was expected. Please change the shape of y to (n_samples, ), for example using ravel().\n",
      "  return f(**kwargs)\n"
     ]
    },
    {
     "data": {
      "text/plain": [
       "LogisticRegression()"
      ]
     },
     "execution_count": 113,
     "metadata": {},
     "output_type": "execute_result"
    }
   ],
   "source": [
    "X_train, X_test, y_train, y_test = train_test_split(X, y, test_size=.2, stratify=y, random_state=42) \n",
    "logreg = LogisticRegression()\n",
    "logreg.fit(X_train, y_train)"
   ]
  },
  {
   "cell_type": "code",
   "execution_count": 114,
   "metadata": {},
   "outputs": [
    {
     "name": "stdout",
     "output_type": "stream",
     "text": [
      "Accuracy of logistic regression classifier on train set: 0.93\n"
     ]
    }
   ],
   "source": [
    "y_pred = logreg.predict(X_train)\n",
    "print('Accuracy of logistic regression classifier on train set: {:.2f}'.format(logreg.score(X_train, y_train)))"
   ]
  },
  {
   "cell_type": "code",
   "execution_count": 115,
   "metadata": {},
   "outputs": [
    {
     "name": "stdout",
     "output_type": "stream",
     "text": [
      "[[3858   65]\n",
      " [ 233  172]]\n"
     ]
    }
   ],
   "source": [
    "from sklearn.metrics import confusion_matrix\n",
    "confusion_matrix = confusion_matrix(y_train, y_pred)\n",
    "print(confusion_matrix)"
   ]
  },
  {
   "cell_type": "code",
   "execution_count": 116,
   "metadata": {},
   "outputs": [
    {
     "data": {
      "text/plain": [
       "0.94362292051756"
      ]
     },
     "execution_count": 116,
     "metadata": {},
     "output_type": "execute_result"
    }
   ],
   "source": [
    "logreg.score(X_test, y_test)"
   ]
  },
  {
   "cell_type": "code",
   "execution_count": 105,
   "metadata": {},
   "outputs": [
    {
     "data": {
      "image/png": "[encoded data removed]",
      "text/plain": [
       "<Figure size 432x288 with 1 Axes>"
      ]
     },
     "metadata": {
      "needs_background": "light"
     },
     "output_type": "display_data"
    }
   ],
   "source": [
    "from sklearn.metrics import roc_auc_score\n",
    "from sklearn.metrics import roc_curve\n",
    "logit_roc_auc = roc_auc_score(y_test, logreg.predict(X_test))\n",
    "fpr, tpr, thresholds = roc_curve(y_test, logreg.predict_proba(X_test)[:,1])\n",
    "plt.figure()\n",
    "plt.plot(fpr, tpr, label='Logistic Regression (area = %0.2f)' % logit_roc_auc)\n",
    "plt.plot([0, 1], [0, 1],'r--')\n",
    "plt.xlim([0.0, 1.0])\n",
    "plt.ylim([0.0, 1.05])\n",
    "plt.xlabel('False Positive Rate')\n",
    "plt.ylabel('True Positive Rate')\n",
    "plt.title('Receiver operating characteristic')\n",
    "plt.legend(loc=\"lower right\")\n",
    "plt.savefig('Log_ROC')\n",
    "plt.show()"
   ]
  }
 ],
 "metadata": {
  "kernelspec": {
   "display_name": "Python 3",
   "language": "python",
   "name": "python3"
  },
  "language_info": {
   "codemirror_mode": {
    "name": "ipython",
    "version": 3
   },
   "file_extension": ".py",
   "mimetype": "text/x-python",
   "name": "python",
   "nbconvert_exporter": "python",
   "pygments_lexer": "ipython3",
   "version": "3.8.5"
  }
 },
 "nbformat": 4,
 "nbformat_minor": 4
}
