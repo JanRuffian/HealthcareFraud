{
 "cells": [
  {
   "cell_type": "markdown",
   "metadata": {},
   "source": [
    "## Set up data set"
   ]
  },
  {
   "cell_type": "code",
   "execution_count": 1,
   "metadata": {},
   "outputs": [],
   "source": [
    "import pandas as pd\n",
    "import numpy as np\n",
    "import matplotlib.pyplot as plt "
   ]
  },
  {
   "cell_type": "code",
   "execution_count": 2,
   "metadata": {},
   "outputs": [],
   "source": [
    "HealthData = pd.read_csv('/Users/janruffner/Desktop/HealthcareFraudCapstoneProject/Data/HealthData.csv', index_col=0)"
   ]
  },
  {
   "cell_type": "code",
   "execution_count": 3,
   "metadata": {},
   "outputs": [
    {
     "data": {
      "text/html": [
       "<div>\n",
       "<style scoped>\n",
       "    .dataframe tbody tr th:only-of-type {\n",
       "        vertical-align: middle;\n",
       "    }\n",
       "\n",
       "    .dataframe tbody tr th {\n",
       "        vertical-align: top;\n",
       "    }\n",
       "\n",
       "    .dataframe thead th {\n",
       "        text-align: right;\n",
       "    }\n",
       "</style>\n",
       "<table border=\"1\" class=\"dataframe\">\n",
       "  <thead>\n",
       "    <tr style=\"text-align: right;\">\n",
       "      <th></th>\n",
       "      <th>PotentialFraud2</th>\n",
       "      <th>Majority</th>\n",
       "      <th>sum.BeneID</th>\n",
       "      <th>sum.InscClaimAmtReimbursed</th>\n",
       "      <th>mean.Age</th>\n",
       "      <th>sum.AttendingPhysicians</th>\n",
       "      <th>GenderRatio</th>\n",
       "      <th>sum.Claims</th>\n",
       "      <th>sum.ChronicCond_Alzheimer</th>\n",
       "      <th>sum.ChronicCond_Cancer</th>\n",
       "      <th>...</th>\n",
       "      <th>Majority_44</th>\n",
       "      <th>Majority_45</th>\n",
       "      <th>Majority_46</th>\n",
       "      <th>Majority_47</th>\n",
       "      <th>Majority_49</th>\n",
       "      <th>Majority_50</th>\n",
       "      <th>Majority_51</th>\n",
       "      <th>Majority_52</th>\n",
       "      <th>Majority_53</th>\n",
       "      <th>Majority_54</th>\n",
       "    </tr>\n",
       "    <tr>\n",
       "      <th>Provider</th>\n",
       "      <th></th>\n",
       "      <th></th>\n",
       "      <th></th>\n",
       "      <th></th>\n",
       "      <th></th>\n",
       "      <th></th>\n",
       "      <th></th>\n",
       "      <th></th>\n",
       "      <th></th>\n",
       "      <th></th>\n",
       "      <th></th>\n",
       "      <th></th>\n",
       "      <th></th>\n",
       "      <th></th>\n",
       "      <th></th>\n",
       "      <th></th>\n",
       "      <th></th>\n",
       "      <th></th>\n",
       "      <th></th>\n",
       "      <th></th>\n",
       "      <th></th>\n",
       "    </tr>\n",
       "  </thead>\n",
       "  <tbody>\n",
       "    <tr>\n",
       "      <th>PRV51001</th>\n",
       "      <td>0</td>\n",
       "      <td>1</td>\n",
       "      <td>24</td>\n",
       "      <td>104640</td>\n",
       "      <td>84.280000</td>\n",
       "      <td>14</td>\n",
       "      <td>0.640000</td>\n",
       "      <td>25</td>\n",
       "      <td>10</td>\n",
       "      <td>20</td>\n",
       "      <td>...</td>\n",
       "      <td>0</td>\n",
       "      <td>0</td>\n",
       "      <td>0</td>\n",
       "      <td>0</td>\n",
       "      <td>0</td>\n",
       "      <td>0</td>\n",
       "      <td>0</td>\n",
       "      <td>0</td>\n",
       "      <td>0</td>\n",
       "      <td>0</td>\n",
       "    </tr>\n",
       "    <tr>\n",
       "      <th>PRV51003</th>\n",
       "      <td>1</td>\n",
       "      <td>1</td>\n",
       "      <td>117</td>\n",
       "      <td>605670</td>\n",
       "      <td>75.553030</td>\n",
       "      <td>44</td>\n",
       "      <td>0.590909</td>\n",
       "      <td>132</td>\n",
       "      <td>76</td>\n",
       "      <td>122</td>\n",
       "      <td>...</td>\n",
       "      <td>0</td>\n",
       "      <td>0</td>\n",
       "      <td>0</td>\n",
       "      <td>0</td>\n",
       "      <td>0</td>\n",
       "      <td>0</td>\n",
       "      <td>0</td>\n",
       "      <td>0</td>\n",
       "      <td>0</td>\n",
       "      <td>0</td>\n",
       "    </tr>\n",
       "    <tr>\n",
       "      <th>PRV51004</th>\n",
       "      <td>0</td>\n",
       "      <td>1</td>\n",
       "      <td>138</td>\n",
       "      <td>52170</td>\n",
       "      <td>77.812081</td>\n",
       "      <td>38</td>\n",
       "      <td>0.691275</td>\n",
       "      <td>149</td>\n",
       "      <td>85</td>\n",
       "      <td>133</td>\n",
       "      <td>...</td>\n",
       "      <td>0</td>\n",
       "      <td>0</td>\n",
       "      <td>0</td>\n",
       "      <td>0</td>\n",
       "      <td>0</td>\n",
       "      <td>0</td>\n",
       "      <td>0</td>\n",
       "      <td>0</td>\n",
       "      <td>0</td>\n",
       "      <td>0</td>\n",
       "    </tr>\n",
       "    <tr>\n",
       "      <th>PRV51005</th>\n",
       "      <td>1</td>\n",
       "      <td>1</td>\n",
       "      <td>495</td>\n",
       "      <td>278310</td>\n",
       "      <td>76.055030</td>\n",
       "      <td>6</td>\n",
       "      <td>0.560619</td>\n",
       "      <td>1163</td>\n",
       "      <td>738</td>\n",
       "      <td>998</td>\n",
       "      <td>...</td>\n",
       "      <td>0</td>\n",
       "      <td>0</td>\n",
       "      <td>0</td>\n",
       "      <td>0</td>\n",
       "      <td>0</td>\n",
       "      <td>0</td>\n",
       "      <td>0</td>\n",
       "      <td>0</td>\n",
       "      <td>0</td>\n",
       "      <td>0</td>\n",
       "    </tr>\n",
       "    <tr>\n",
       "      <th>PRV51007</th>\n",
       "      <td>0</td>\n",
       "      <td>1</td>\n",
       "      <td>58</td>\n",
       "      <td>33710</td>\n",
       "      <td>74.791667</td>\n",
       "      <td>10</td>\n",
       "      <td>0.527778</td>\n",
       "      <td>72</td>\n",
       "      <td>46</td>\n",
       "      <td>60</td>\n",
       "      <td>...</td>\n",
       "      <td>0</td>\n",
       "      <td>0</td>\n",
       "      <td>0</td>\n",
       "      <td>0</td>\n",
       "      <td>0</td>\n",
       "      <td>0</td>\n",
       "      <td>0</td>\n",
       "      <td>0</td>\n",
       "      <td>0</td>\n",
       "      <td>0</td>\n",
       "    </tr>\n",
       "  </tbody>\n",
       "</table>\n",
       "<p>5 rows × 77 columns</p>\n",
       "</div>"
      ],
      "text/plain": [
       "          PotentialFraud2  Majority  sum.BeneID  sum.InscClaimAmtReimbursed  \\\n",
       "Provider                                                                      \n",
       "PRV51001                0         1          24                      104640   \n",
       "PRV51003                1         1         117                      605670   \n",
       "PRV51004                0         1         138                       52170   \n",
       "PRV51005                1         1         495                      278310   \n",
       "PRV51007                0         1          58                       33710   \n",
       "\n",
       "           mean.Age  sum.AttendingPhysicians  GenderRatio  sum.Claims  \\\n",
       "Provider                                                                \n",
       "PRV51001  84.280000                       14     0.640000          25   \n",
       "PRV51003  75.553030                       44     0.590909         132   \n",
       "PRV51004  77.812081                       38     0.691275         149   \n",
       "PRV51005  76.055030                        6     0.560619        1163   \n",
       "PRV51007  74.791667                       10     0.527778          72   \n",
       "\n",
       "          sum.ChronicCond_Alzheimer  sum.ChronicCond_Cancer  ...  Majority_44  \\\n",
       "Provider                                                     ...                \n",
       "PRV51001                         10                      20  ...            0   \n",
       "PRV51003                         76                     122  ...            0   \n",
       "PRV51004                         85                     133  ...            0   \n",
       "PRV51005                        738                     998  ...            0   \n",
       "PRV51007                         46                      60  ...            0   \n",
       "\n",
       "          Majority_45  Majority_46  Majority_47  Majority_49  Majority_50  \\\n",
       "Provider                                                                    \n",
       "PRV51001            0            0            0            0            0   \n",
       "PRV51003            0            0            0            0            0   \n",
       "PRV51004            0            0            0            0            0   \n",
       "PRV51005            0            0            0            0            0   \n",
       "PRV51007            0            0            0            0            0   \n",
       "\n",
       "          Majority_51  Majority_52  Majority_53  Majority_54  \n",
       "Provider                                                      \n",
       "PRV51001            0            0            0            0  \n",
       "PRV51003            0            0            0            0  \n",
       "PRV51004            0            0            0            0  \n",
       "PRV51005            0            0            0            0  \n",
       "PRV51007            0            0            0            0  \n",
       "\n",
       "[5 rows x 77 columns]"
      ]
     },
     "execution_count": 3,
     "metadata": {},
     "output_type": "execute_result"
    }
   ],
   "source": [
    "HealthData.head()"
   ]
  },
  {
   "cell_type": "code",
   "execution_count": 4,
   "metadata": {},
   "outputs": [],
   "source": [
    "X=HealthData.drop(['PotentialFraud2','Majority', 'Majority_1', \n",
    "                  'GenderRatio', 'sum.ChronicCond_Heartfailure', 'sum.ChronicCond_stroke','sum.ChronicCond_ObstrPulmonary',\n",
    "                   'sum.ChronicCond_rheumatoidarthritis', 'sum.ChronicCond_Cancer', 'sum.ChronicCond_Heartfailure', 'sum.ChronicCond_Alzheimer',\n",
    "                  'sum.ChronicCond_Osteoporasis', 'sum.ChronicCond_Diabetes', 'sum.Claims', 'sum.ClaimsID', 'sum.States', 'BothServices',\n",
    "                   'Inpatient', 'Outpatient', 'DistinctServices'], axis=1)\n",
    "y=HealthData[['PotentialFraud2']]"
   ]
  },
  {
   "cell_type": "markdown",
   "metadata": {},
   "source": [
    "## Define linear regression function"
   ]
  },
  {
   "cell_type": "code",
   "execution_count": 6,
   "metadata": {},
   "outputs": [],
   "source": [
    "from sklearn.linear_model import LogisticRegression\n",
    "from sklearn.model_selection import train_test_split, GridSearchCV"
   ]
  },
  {
   "cell_type": "code",
   "execution_count": 7,
   "metadata": {},
   "outputs": [],
   "source": [
    "import statsmodels.api as sm\n",
    "def logistic(X, y, print_output=False):\n",
    "    X2 = sm.add_constant(X)\n",
    "    X_train, X_test, y_train, y_test = train_test_split(X2, y, test_size=.2, stratify=y, random_state=42) \n",
    "    reg = sm.Logit(y_train, X_train.astype(float)).fit()\n",
    "    if print_output:\n",
    "        print(reg.summary())\n",
    "    return reg"
   ]
  },
  {
   "cell_type": "code",
   "execution_count": 8,
   "metadata": {},
   "outputs": [
    {
     "name": "stdout",
     "output_type": "stream",
     "text": [
      "Warning: Maximum number of iterations has been exceeded.\n",
      "         Current function value: 0.176795\n",
      "         Iterations: 35\n",
      "                           Logit Regression Results                           \n",
      "==============================================================================\n",
      "Dep. Variable:        PotentialFraud2   No. Observations:                 4322\n",
      "Model:                          Logit   Df Residuals:                     4263\n",
      "Method:                           MLE   Df Model:                           58\n",
      "Date:                Sun, 18 Apr 2021   Pseudo R-squ.:                  0.4316\n",
      "Time:                        13:16:08   Log-Likelihood:                -764.11\n",
      "converged:                      False   LL-Null:                       -1344.3\n",
      "Covariance Type:            nonrobust   LLR p-value:                8.983e-205\n",
      "==============================================================================================\n",
      "                                 coef    std err          z      P>|z|      [0.025      0.975]\n",
      "----------------------------------------------------------------------------------------------\n",
      "const                         -2.1340      1.671     -1.277      0.202      -5.410       1.142\n",
      "sum.BeneID                    -0.0072      0.001     -4.821      0.000      -0.010      -0.004\n",
      "sum.InscClaimAmtReimbursed  6.908e-06   4.83e-07     14.312      0.000    5.96e-06    7.85e-06\n",
      "mean.Age                      -0.0128      0.019     -0.662      0.508      -0.051       0.025\n",
      "sum.AttendingPhysicians        0.0037      0.003      1.474      0.141      -0.001       0.009\n",
      "OupatientInpatient2Ratio      -1.1894      0.304     -3.911      0.000      -1.786      -0.593\n",
      "sum.Diagnosis                  0.0080      0.001      6.383      0.000       0.006       0.010\n",
      "summean_perc                   1.1963      0.810      1.477      0.140      -0.391       2.783\n",
      "Majority_2                   -23.7044   1.74e+05     -0.000      1.000    -3.4e+05     3.4e+05\n",
      "Majority_3                    -0.2157      0.665     -0.325      0.746      -1.518       1.087\n",
      "Majority_4                    -0.6122      0.741     -0.827      0.408      -2.064       0.839\n",
      "Majority_5                    -0.2989      0.465     -0.643      0.520      -1.210       0.613\n",
      "Majority_6                     0.0596      0.679      0.088      0.930      -1.271       1.390\n",
      "Majority_7                    -0.8104      1.113     -0.728      0.466      -2.992       1.371\n",
      "Majority_8                     0.8970      0.963      0.931      0.352      -0.991       2.785\n",
      "Majority_9                   -16.4844   9577.053     -0.002      0.999   -1.88e+04    1.88e+04\n",
      "Majority_10                   -1.1390      0.536     -2.123      0.034      -2.190      -0.088\n",
      "Majority_11                   -1.1265      0.617     -1.825      0.068      -2.336       0.083\n",
      "Majority_12                    0.1620      1.150      0.141      0.888      -2.092       2.416\n",
      "Majority_13                    0.2730      0.737      0.371      0.711      -1.171       1.717\n",
      "Majority_14                   -0.5819      0.556     -1.047      0.295      -1.672       0.508\n",
      "Majority_15                   -0.7532      0.594     -1.267      0.205      -1.918       0.412\n",
      "Majority_16                   -0.0834      0.645     -0.129      0.897      -1.347       1.180\n",
      "Majority_17                    0.0906      0.604      0.150      0.881      -1.093       1.274\n",
      "Majority_18                   -0.6795      0.752     -0.904      0.366      -2.152       0.794\n",
      "Majority_19                   -0.8424      0.662     -1.272      0.203      -2.141       0.456\n",
      "Majority_20                   -0.5545      1.114     -0.498      0.619      -2.738       1.629\n",
      "Majority_21                   -4.5813      2.254     -2.033      0.042      -8.998      -0.164\n",
      "Majority_22                   -0.0473      0.703     -0.067      0.946      -1.426       1.331\n",
      "Majority_23                   -0.8878      0.609     -1.458      0.145      -2.081       0.306\n",
      "Majority_24                    0.1654      0.568      0.291      0.771      -0.948       1.278\n",
      "Majority_25                   -0.3758      0.672     -0.559      0.576      -1.694       0.942\n",
      "Majority_26                   -0.9327      0.676     -1.380      0.167      -2.257       0.392\n",
      "Majority_27                    0.4463      0.883      0.506      0.613      -1.284       2.176\n",
      "Majority_28                   -1.3271      0.824     -1.611      0.107      -2.942       0.287\n",
      "Majority_29                    0.0724      0.855      0.085      0.932      -1.602       1.747\n",
      "Majority_30                    0.7445      1.243      0.599      0.549      -1.691       3.180\n",
      "Majority_31                   -0.1841      0.652     -0.282      0.778      -1.461       1.093\n",
      "Majority_32                   -0.4055      1.087     -0.373      0.709      -2.536       1.725\n",
      "Majority_33                   -0.3347      0.502     -0.667      0.505      -1.319       0.649\n",
      "Majority_34                   -0.3030      0.545     -0.556      0.578      -1.371       0.765\n",
      "Majority_35                   -0.2711      1.141     -0.238      0.812      -2.508       1.965\n",
      "Majority_36                   -0.1321      0.509     -0.259      0.795      -1.130       0.866\n",
      "Majority_37                   -0.9895      0.804     -1.231      0.218      -2.565       0.586\n",
      "Majority_38                    0.2672      0.703      0.380      0.704      -1.110       1.644\n",
      "Majority_39                   -1.0482      0.550     -1.905      0.057      -2.126       0.030\n",
      "Majority_41                  -16.0240   7982.608     -0.002      0.998   -1.57e+04    1.56e+04\n",
      "Majority_42                   -1.5367      0.801     -1.918      0.055      -3.107       0.034\n",
      "Majority_43                    0.0787      0.844      0.093      0.926      -1.576       1.733\n",
      "Majority_44                    0.2891      0.541      0.534      0.593      -0.771       1.349\n",
      "Majority_45                   -0.3091      0.468     -0.660      0.509      -1.227       0.609\n",
      "Majority_46                   -1.2307      1.195     -1.029      0.303      -3.574       1.112\n",
      "Majority_47                   -0.5278      1.237     -0.427      0.670      -2.952       1.896\n",
      "Majority_49                    0.7415      0.522      1.420      0.155      -0.282       1.765\n",
      "Majority_50                   -0.7748      0.643     -1.204      0.228      -2.036       0.486\n",
      "Majority_51                   -0.9220      0.832     -1.108      0.268      -2.553       0.709\n",
      "Majority_52                   -0.7804      0.659     -1.184      0.236      -2.072       0.511\n",
      "Majority_53                    0.9669      0.913      1.058      0.290      -0.823       2.757\n",
      "Majority_54                   -0.0046      0.831     -0.006      0.996      -1.634       1.625\n",
      "==============================================================================================\n"
     ]
    },
    {
     "name": "stderr",
     "output_type": "stream",
     "text": [
      "/Users/janruffner/opt/anaconda3/lib/python3.8/site-packages/statsmodels/base/model.py:566: ConvergenceWarning: Maximum Likelihood optimization failed to converge. Check mle_retvals\n",
      "  warnings.warn(\"Maximum Likelihood optimization failed to \"\n"
     ]
    },
    {
     "data": {
      "text/plain": [
       "<statsmodels.discrete.discrete_model.BinaryResultsWrapper at 0x7fe8b025fca0>"
      ]
     },
     "execution_count": 8,
     "metadata": {},
     "output_type": "execute_result"
    }
   ],
   "source": [
    "logistic(X,y,True)"
   ]
  },
  {
   "cell_type": "code",
   "execution_count": 9,
   "metadata": {},
   "outputs": [
    {
     "name": "stderr",
     "output_type": "stream",
     "text": [
      "/Users/janruffner/opt/anaconda3/lib/python3.8/site-packages/sklearn/utils/validation.py:72: DataConversionWarning: A column-vector y was passed when a 1d array was expected. Please change the shape of y to (n_samples, ), for example using ravel().\n",
      "  return f(**kwargs)\n"
     ]
    },
    {
     "data": {
      "text/plain": [
       "LogisticRegression()"
      ]
     },
     "execution_count": 9,
     "metadata": {},
     "output_type": "execute_result"
    }
   ],
   "source": [
    "X_train, X_test, y_train, y_test = train_test_split(X, y, test_size=.2, stratify=y, random_state=42) \n",
    "logreg = LogisticRegression()\n",
    "logreg.fit(X_train, y_train)"
   ]
  },
  {
   "cell_type": "code",
   "execution_count": 10,
   "metadata": {},
   "outputs": [
    {
     "name": "stdout",
     "output_type": "stream",
     "text": [
      "Accuracy of logistic regression classifier on train set: 0.93\n"
     ]
    }
   ],
   "source": [
    "y_pred = logreg.predict(X_train)\n",
    "print('Accuracy of logistic regression classifier on train set: {:.2f}'.format(logreg.score(X_train, y_train)))"
   ]
  },
  {
   "cell_type": "code",
   "execution_count": 11,
   "metadata": {},
   "outputs": [
    {
     "name": "stdout",
     "output_type": "stream",
     "text": [
      "[[3863   54]\n",
      " [ 233  172]]\n"
     ]
    }
   ],
   "source": [
    "from sklearn.metrics import confusion_matrix\n",
    "confusion_matrix = confusion_matrix(y_train, y_pred)\n",
    "print(confusion_matrix)"
   ]
  },
  {
   "cell_type": "code",
   "execution_count": 12,
   "metadata": {},
   "outputs": [
    {
     "data": {
      "text/plain": [
       "0.940795559666975"
      ]
     },
     "execution_count": 12,
     "metadata": {},
     "output_type": "execute_result"
    }
   ],
   "source": [
    "logreg.score(X_test, y_test)"
   ]
  },
  {
   "cell_type": "code",
   "execution_count": 13,
   "metadata": {},
   "outputs": [
    {
     "data": {
      "image/png": "[encoded data removed]",
      "text/plain": [
       "<Figure size 432x288 with 1 Axes>"
      ]
     },
     "metadata": {
      "needs_background": "light"
     },
     "output_type": "display_data"
    }
   ],
   "source": [
    "from sklearn.metrics import roc_auc_score\n",
    "from sklearn.metrics import roc_curve\n",
    "logit_roc_auc = roc_auc_score(y_test, logreg.predict(X_test))\n",
    "fpr, tpr, thresholds = roc_curve(y_test, logreg.predict_proba(X_test)[:,1])\n",
    "plt.figure()\n",
    "plt.plot(fpr, tpr, label='Logistic Regression (area = %0.2f)' % logit_roc_auc)\n",
    "plt.plot([0, 1], [0, 1],'r--')\n",
    "plt.xlim([0.0, 1.0])\n",
    "plt.ylim([0.0, 1.05])\n",
    "plt.xlabel('False Positive Rate')\n",
    "plt.ylabel('True Positive Rate')\n",
    "plt.title('Receiver operating characteristic')\n",
    "plt.legend(loc=\"lower right\")\n",
    "plt.savefig('Log_ROC')\n",
    "plt.show()"
   ]
  }
 ],
 "metadata": {
  "kernelspec": {
   "display_name": "Python 3",
   "language": "python",
   "name": "python3"
  },
  "language_info": {
   "codemirror_mode": {
    "name": "ipython",
    "version": 3
   },
   "file_extension": ".py",
   "mimetype": "text/x-python",
   "name": "python",
   "nbconvert_exporter": "python",
   "pygments_lexer": "ipython3",
   "version": "3.8.5"
  }
 },
 "nbformat": 4,
 "nbformat_minor": 4
}
